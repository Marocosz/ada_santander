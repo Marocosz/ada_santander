{
 "cells": [
  {
   "cell_type": "markdown",
   "id": "72ee5098-1885-4a41-b548-a04869a9389f",
   "metadata": {
    "jp-MarkdownHeadingCollapsed": true
   },
   "source": [
    "### Aula: Introdução Numpy"
   ]
  },
  {
   "cell_type": "code",
   "execution_count": 5,
   "id": "ef97681f-820d-4f77-8752-07651a0339b1",
   "metadata": {},
   "outputs": [],
   "source": [
    "import numpy as np\n",
    "# Biblioteca de Arrays (Diferente das listas, é que dentro dele há apenas um tipo de dado)"
   ]
  },
  {
   "cell_type": "code",
   "execution_count": 6,
   "id": "234a52f6-e400-4276-9850-1339832f10c0",
   "metadata": {
    "collapsed": true,
    "jupyter": {
     "outputs_hidden": true
    },
    "scrolled": true
   },
   "outputs": [
    {
     "name": "stdout",
     "output_type": "stream",
     "text": [
      "[0. 0. 0. 0. 0. 0. 0. 0. 0. 0.]\n"
     ]
    }
   ],
   "source": [
    "arr_zeros = np.zeros(10)  # Array de 0\n",
    "print(arr_zeros)\n",
    "\n",
    "# Os arrays tem comportamentos muito semelhantes aos das listas de python"
   ]
  },
  {
   "cell_type": "code",
   "execution_count": 7,
   "id": "27ff031f-68e3-4dfb-a5f2-8735c24bca49",
   "metadata": {},
   "outputs": [
    {
     "name": "stdout",
     "output_type": "stream",
     "text": [
      "[[0. 0. 0.]\n",
      " [0. 0. 0.]\n",
      " [0. 0. 0.]\n",
      " [0. 0. 0.]\n",
      " [0. 0. 0.]]\n"
     ]
    }
   ],
   "source": [
    "mt_zeros = np.zeros((5, 3))  # Matriz de 0\n",
    "\n",
    "print(mt_zeros)"
   ]
  },
  {
   "cell_type": "code",
   "execution_count": 9,
   "id": "31ca127a-955e-43c5-8621-3747802599aa",
   "metadata": {},
   "outputs": [],
   "source": [
    "## Notas de alunos\n",
    "lista_de_notas = [9.8, 2, 8, 3.5, 6.7]\n",
    "notas = np.array(lista_de_notas)"
   ]
  },
  {
   "cell_type": "code",
   "execution_count": 11,
   "id": "5d579d3e-c543-4ca9-9b02-d645f39bb7f9",
   "metadata": {
    "collapsed": true,
    "jupyter": {
     "outputs_hidden": true
    }
   },
   "outputs": [
    {
     "name": "stdout",
     "output_type": "stream",
     "text": [
      "Máximo: 9.8\n",
      "Mínimo: 2.0\n",
      "Desvio Padrão: 2.8698432012916664\n",
      "Media: 6.0\n",
      "Posição Menor: 1\n"
     ]
    }
   ],
   "source": [
    "print(f'Máximo: {notas.max()}')\n",
    "print(f'Mínimo: {notas.min()}')\n",
    "print(f'Desvio Padrão: {notas.std()}')\n",
    "print(f'Media: {notas.mean()}')\n",
    "print(f'Posição Menor: {notas.argmin()}')"
   ]
  },
  {
   "cell_type": "markdown",
   "id": "69b108f3-2a5f-4487-8cf3-1015c68e9e41",
   "metadata": {
    "jp-MarkdownHeadingCollapsed": true
   },
   "source": [
    "### Aula: Máscara Booleana"
   ]
  },
  {
   "cell_type": "code",
   "execution_count": 13,
   "id": "e5374d96-ce7b-42de-b9a4-24ea6bcebcc8",
   "metadata": {},
   "outputs": [],
   "source": [
    "is_covid_positive = np.array(['Yes', 'No', 'No', 'Yes', 'No', 'Yes'])"
   ]
  },
  {
   "cell_type": "code",
   "execution_count": 15,
   "id": "7e1abd5a-b8af-4a0b-bcfd-52f7c30967ce",
   "metadata": {},
   "outputs": [
    {
     "name": "stdout",
     "output_type": "stream",
     "text": [
      "[ True False False  True False  True]\n"
     ]
    }
   ],
   "source": [
    "mask = (is_covid_positive == 'Yes')\n",
    "print(mask)"
   ]
  },
  {
   "cell_type": "code",
   "execution_count": 16,
   "id": "8f34666d-16e4-4363-9ed0-45a1f493a9f3",
   "metadata": {},
   "outputs": [
    {
     "name": "stdout",
     "output_type": "stream",
     "text": [
      "['Yes' 'Yes' 'Yes']\n"
     ]
    }
   ],
   "source": [
    "print(is_covid_positive[mask])"
   ]
  },
  {
   "cell_type": "code",
   "execution_count": 17,
   "id": "fc243389-5fc7-4124-9bba-00d15b927e33",
   "metadata": {},
   "outputs": [
    {
     "name": "stdout",
     "output_type": "stream",
     "text": [
      "['C19' 'No' 'No' 'C19' 'No' 'C19']\n"
     ]
    }
   ],
   "source": [
    "is_covid_positive[mask] = 'C19'\n",
    "print(is_covid_positive)"
   ]
  },
  {
   "cell_type": "code",
   "execution_count": null,
   "id": "f52737da-596d-4bc6-86aa-6fd227faa445",
   "metadata": {},
   "outputs": [],
   "source": [
    "# Dessa forma conseguimos fazer uma espécie de máscara para determinarmos\n",
    "# os itens que iremos querer alterar, ou exibir"
   ]
  },
  {
   "cell_type": "markdown",
   "id": "413e5b68-1de3-4527-b7ce-69a6c4f39b11",
   "metadata": {
    "jp-MarkdownHeadingCollapsed": true
   },
   "source": [
    "### Aula: Pandas Series"
   ]
  },
  {
   "cell_type": "code",
   "execution_count": 8,
   "id": "7cd94e3d-5f7d-484a-8c7a-bfd20ae1e312",
   "metadata": {},
   "outputs": [],
   "source": [
    "import pandas as pd"
   ]
  },
  {
   "cell_type": "code",
   "execution_count": null,
   "id": "22cb0742-54cd-43e6-8e6d-812d43d6c2df",
   "metadata": {},
   "outputs": [],
   "source": [
    "# Series é uma especie de lista, que pode funcionar também como dicionário,\n",
    "# Conseguimos várias informações diante esse tipo de dado"
   ]
  },
  {
   "cell_type": "code",
   "execution_count": 21,
   "id": "4ffd3435-4886-4528-9377-cd16f4d68056",
   "metadata": {},
   "outputs": [
    {
     "name": "stdout",
     "output_type": "stream",
     "text": [
      "12\n"
     ]
    }
   ],
   "source": [
    "lista = [12, 45, 21, 92, 102, 3, 5]\n",
    "series_pd = pd.Series(lista)\n",
    "print(series_pd[0])"
   ]
  },
  {
   "cell_type": "code",
   "execution_count": 23,
   "id": "d6f2c33f-ff94-440a-b224-0a1ebd7bc158",
   "metadata": {},
   "outputs": [
    {
     "name": "stdout",
     "output_type": "stream",
     "text": [
      "8.0\n"
     ]
    }
   ],
   "source": [
    "notas = {'Tiago': 8, 'Juca': 9.5, 'Guilherme':6.2}\n",
    "series_pd = pd.Series(notas)\n",
    "print(series_pd['Tiago'])"
   ]
  },
  {
   "cell_type": "code",
   "execution_count": 25,
   "id": "c7c7d9da-a927-4384-a4c5-ddd8fd09e8c8",
   "metadata": {},
   "outputs": [
    {
     "name": "stdout",
     "output_type": "stream",
     "text": [
      "8.0\n",
      "count    3.000000\n",
      "mean     7.900000\n",
      "std      1.652271\n",
      "min      6.200000\n",
      "25%      7.100000\n",
      "50%      8.000000\n",
      "75%      8.750000\n",
      "max      9.500000\n",
      "dtype: float64\n"
     ]
    }
   ],
   "source": [
    "print(series_pd.median())\n",
    "print(series_pd.describe())"
   ]
  },
  {
   "cell_type": "code",
   "execution_count": 26,
   "id": "51e2c05c-ebc8-45ef-af56-f512866e7482",
   "metadata": {},
   "outputs": [
    {
     "name": "stdout",
     "output_type": "stream",
     "text": [
      "23.7\n"
     ]
    }
   ],
   "source": [
    "print(series_pd.sum())"
   ]
  },
  {
   "cell_type": "markdown",
   "id": "862d351a-9f61-4f10-818e-7be19fd811b4",
   "metadata": {
    "jp-MarkdownHeadingCollapsed": true
   },
   "source": [
    "### Aula: Pandas DataFrames"
   ]
  },
  {
   "cell_type": "code",
   "execution_count": 2,
   "id": "cf959deb-d929-480c-8728-959edb232036",
   "metadata": {},
   "outputs": [],
   "source": [
    "# DataFrames: Equialente a \"Tabelas\""
   ]
  },
  {
   "cell_type": "code",
   "execution_count": 4,
   "id": "be50b3dc-7b24-4212-8be6-88f81f5a0218",
   "metadata": {},
   "outputs": [],
   "source": [
    "dict = {\"Autores\": [\"Rick Rioardan\", \"J. R. R\", \"Machado de Assis\"],\n",
    "        \"Títulos\": ['O Ladrão de Raios', 'A Sociedade do Anel', 'Memórias Postumas'],\n",
    "        \"Preços\": [41.2, 35.6, 40]}"
   ]
  },
  {
   "cell_type": "code",
   "execution_count": 18,
   "id": "1dcbe8bb-d392-4ee4-bddd-8dded273f3b6",
   "metadata": {},
   "outputs": [],
   "source": [
    "# # Criando o DataFrame\n",
    "\n",
    "df = pd.DataFrame(dict)"
   ]
  },
  {
   "cell_type": "code",
   "execution_count": 20,
   "id": "86fa0cc6-cb2c-438d-949b-5b4b52ca5f3d",
   "metadata": {},
   "outputs": [
    {
     "data": {
      "text/plain": [
       "'J. R. R'"
      ]
     },
     "execution_count": 20,
     "metadata": {},
     "output_type": "execute_result"
    }
   ],
   "source": [
    "df\n",
    "df['Autores']  # Isso seria uma \"serie\", logo, há o mesmo comportamento\n",
    "df['Autores'][1]"
   ]
  },
  {
   "cell_type": "code",
   "execution_count": 22,
   "id": "a7e6f8f6-5d19-4cad-9bca-0b9c308ece99",
   "metadata": {},
   "outputs": [
    {
     "data": {
      "text/plain": [
       "38.93333333333334"
      ]
     },
     "execution_count": 22,
     "metadata": {},
     "output_type": "execute_result"
    }
   ],
   "source": [
    "df['Preços'].mean()"
   ]
  },
  {
   "cell_type": "code",
   "execution_count": 24,
   "id": "ccd174c7-b804-4011-b72c-e4759c46ad8e",
   "metadata": {},
   "outputs": [
    {
     "name": "stdout",
     "output_type": "stream",
     "text": [
      "0     True\n",
      "1    False\n",
      "2    False\n",
      "Name: Autores, dtype: bool\n"
     ]
    }
   ],
   "source": [
    "mascara = df['Autores'] == 'Rick Rioardan'\n",
    "print(mascara)"
   ]
  },
  {
   "cell_type": "code",
   "execution_count": 67,
   "id": "33480ad5-7d1c-4a69-9337-9187f0f54b59",
   "metadata": {},
   "outputs": [
    {
     "data": {
      "text/html": [
       "<div>\n",
       "<style scoped>\n",
       "    .dataframe tbody tr th:only-of-type {\n",
       "        vertical-align: middle;\n",
       "    }\n",
       "\n",
       "    .dataframe tbody tr th {\n",
       "        vertical-align: top;\n",
       "    }\n",
       "\n",
       "    .dataframe thead th {\n",
       "        text-align: right;\n",
       "    }\n",
       "</style>\n",
       "<table border=\"1\" class=\"dataframe\">\n",
       "  <thead>\n",
       "    <tr style=\"text-align: right;\">\n",
       "      <th></th>\n",
       "      <th>Autores</th>\n",
       "      <th>Títulos</th>\n",
       "      <th>Preços</th>\n",
       "    </tr>\n",
       "  </thead>\n",
       "  <tbody>\n",
       "    <tr>\n",
       "      <th>0</th>\n",
       "      <td>Rick Rioardan</td>\n",
       "      <td>O Ladrão de Raios</td>\n",
       "      <td>41.2</td>\n",
       "    </tr>\n",
       "  </tbody>\n",
       "</table>\n",
       "</div>"
      ],
      "text/plain": [
       "         Autores            Títulos  Preços\n",
       "0  Rick Rioardan  O Ladrão de Raios    41.2"
      ]
     },
     "execution_count": 67,
     "metadata": {},
     "output_type": "execute_result"
    }
   ],
   "source": [
    "df[mascara]  # Dessa forma conseguimos filtrar, e fazer máscaras parecidas a Mascara Booleana do numpy"
   ]
  },
  {
   "cell_type": "code",
   "execution_count": 69,
   "id": "c95c4383-a3d4-4d7a-a8e9-434ff522a987",
   "metadata": {},
   "outputs": [
    {
     "data": {
      "text/html": [
       "<div>\n",
       "<style scoped>\n",
       "    .dataframe tbody tr th:only-of-type {\n",
       "        vertical-align: middle;\n",
       "    }\n",
       "\n",
       "    .dataframe tbody tr th {\n",
       "        vertical-align: top;\n",
       "    }\n",
       "\n",
       "    .dataframe thead th {\n",
       "        text-align: right;\n",
       "    }\n",
       "</style>\n",
       "<table border=\"1\" class=\"dataframe\">\n",
       "  <thead>\n",
       "    <tr style=\"text-align: right;\">\n",
       "      <th></th>\n",
       "      <th>Autores</th>\n",
       "      <th>Títulos</th>\n",
       "      <th>Preços</th>\n",
       "    </tr>\n",
       "  </thead>\n",
       "  <tbody>\n",
       "    <tr>\n",
       "      <th>0</th>\n",
       "      <td>Rick Rioardan</td>\n",
       "      <td>O Ladrão de Raios</td>\n",
       "      <td>41.2</td>\n",
       "    </tr>\n",
       "    <tr>\n",
       "      <th>1</th>\n",
       "      <td>J. R. R</td>\n",
       "      <td>A Sociedade do Anel</td>\n",
       "      <td>35.6</td>\n",
       "    </tr>\n",
       "    <tr>\n",
       "      <th>2</th>\n",
       "      <td>Machado de Assis</td>\n",
       "      <td>Memórias Postumas</td>\n",
       "      <td>40.0</td>\n",
       "    </tr>\n",
       "  </tbody>\n",
       "</table>\n",
       "</div>"
      ],
      "text/plain": [
       "            Autores              Títulos  Preços\n",
       "0     Rick Rioardan    O Ladrão de Raios    41.2\n",
       "1           J. R. R  A Sociedade do Anel    35.6\n",
       "2  Machado de Assis    Memórias Postumas    40.0"
      ]
     },
     "execution_count": 69,
     "metadata": {},
     "output_type": "execute_result"
    }
   ],
   "source": [
    "df"
   ]
  },
  {
   "cell_type": "code",
   "execution_count": 101,
   "id": "c200297b-29e2-47bb-a4fc-f1cd49b7be45",
   "metadata": {},
   "outputs": [],
   "source": [
    "dict2 = {'Autores': ['Rick Riordan'], 'Títulos': ['A Maldicão do Tita'], \"Preços\": [45]}\n",
    "df2 = pd.DataFrame(dict2)\n",
    "df = pd.concat([df, df2])"
   ]
  },
  {
   "cell_type": "code",
   "execution_count": 105,
   "id": "71ebde26-4951-4ecb-8c1f-b8b721ce745f",
   "metadata": {},
   "outputs": [],
   "source": [
    "mascara_correcao = df['Títulos'] == 'A Maldicão do Tita'  # Filtro"
   ]
  },
  {
   "cell_type": "code",
   "execution_count": 107,
   "id": "4d63998e-f32f-4e1e-b7d5-32848e0c2e38",
   "metadata": {},
   "outputs": [],
   "source": [
    "df.loc[mascara_correcao, 'Títulos'] = 'A Maldição do Tita'  # Alterando o dado"
   ]
  },
  {
   "cell_type": "code",
   "execution_count": 109,
   "id": "17ba80d0-07c4-4417-a095-c035994232c6",
   "metadata": {},
   "outputs": [
    {
     "data": {
      "text/html": [
       "<div>\n",
       "<style scoped>\n",
       "    .dataframe tbody tr th:only-of-type {\n",
       "        vertical-align: middle;\n",
       "    }\n",
       "\n",
       "    .dataframe tbody tr th {\n",
       "        vertical-align: top;\n",
       "    }\n",
       "\n",
       "    .dataframe thead th {\n",
       "        text-align: right;\n",
       "    }\n",
       "</style>\n",
       "<table border=\"1\" class=\"dataframe\">\n",
       "  <thead>\n",
       "    <tr style=\"text-align: right;\">\n",
       "      <th></th>\n",
       "      <th>Autores</th>\n",
       "      <th>Títulos</th>\n",
       "      <th>Preços</th>\n",
       "    </tr>\n",
       "  </thead>\n",
       "  <tbody>\n",
       "    <tr>\n",
       "      <th>0</th>\n",
       "      <td>Rick Rioardan</td>\n",
       "      <td>O Ladrão de Raios</td>\n",
       "      <td>41.2</td>\n",
       "    </tr>\n",
       "    <tr>\n",
       "      <th>1</th>\n",
       "      <td>J. R. R</td>\n",
       "      <td>A Sociedade do Anel</td>\n",
       "      <td>35.6</td>\n",
       "    </tr>\n",
       "    <tr>\n",
       "      <th>2</th>\n",
       "      <td>Machado de Assis</td>\n",
       "      <td>Memórias Postumas</td>\n",
       "      <td>40.0</td>\n",
       "    </tr>\n",
       "    <tr>\n",
       "      <th>0</th>\n",
       "      <td>Rick Riordan</td>\n",
       "      <td>A Maldição do Tita</td>\n",
       "      <td>45.0</td>\n",
       "    </tr>\n",
       "  </tbody>\n",
       "</table>\n",
       "</div>"
      ],
      "text/plain": [
       "            Autores              Títulos  Preços\n",
       "0     Rick Rioardan    O Ladrão de Raios    41.2\n",
       "1           J. R. R  A Sociedade do Anel    35.6\n",
       "2  Machado de Assis    Memórias Postumas    40.0\n",
       "0      Rick Riordan   A Maldição do Tita    45.0"
      ]
     },
     "execution_count": 109,
     "metadata": {},
     "output_type": "execute_result"
    }
   ],
   "source": [
    "df"
   ]
  },
  {
   "cell_type": "code",
   "execution_count": null,
   "id": "d0d50cfa-3023-43ec-8459-6af89dbe7ebd",
   "metadata": {},
   "outputs": [],
   "source": []
  }
 ],
 "metadata": {
  "kernelspec": {
   "display_name": "Python 3 (ipykernel)",
   "language": "python",
   "name": "python3"
  },
  "language_info": {
   "codemirror_mode": {
    "name": "ipython",
    "version": 3
   },
   "file_extension": ".py",
   "mimetype": "text/x-python",
   "name": "python",
   "nbconvert_exporter": "python",
   "pygments_lexer": "ipython3",
   "version": "3.11.5"
  }
 },
 "nbformat": 4,
 "nbformat_minor": 5
}
